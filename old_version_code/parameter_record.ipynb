{
  "cells": [
    {
      "cell_type": "code",
      "execution_count": 24,
      "metadata": {
        "id": "_dTDqbJ-FcU6"
      },
      "outputs": [],
      "source": [
        "import numpy as np\n",
        "import json"
      ]
    },
    {
      "attachments": {},
      "cell_type": "markdown",
      "metadata": {
        "id": "u61OwRQ8G13e"
      },
      "source": [
        "## random 8 pop para"
      ]
    },
    {
      "cell_type": "code",
      "execution_count": 37,
      "metadata": {
        "id": "HZEHS0ntGweq"
      },
      "outputs": [],
      "source": [
        "pops = np.array([20683, 5834, 21915, 5479, 4850, 1065, 14395, 2948])\n",
        "pops_prop = np.random.choice([1, -1], size=len(pops)) # 1: excitatory, -1: inhibitory\n",
        "\n",
        "pconn = np.random.randint(0, 2, (len(pops), len(pops)))\n",
        "np.fill_diagonal(pconn, 1)\n",
        "\n",
        "J = np.random.uniform(0.06, 0.3)  # excitatory synaptic weight in mV, w^{αβ} in the paper\n",
        "g = np.random.uniform(3, 5)   # inhibition-to-excitation ratio, -g*J is the weight for inhibitory signals\n",
        "J_syn = np.outer(np.ones_like(pops_prop), np.where(pops_prop == -1, -g*J, J))\n",
        "J_syn = J_syn * pconn * np.random.uniform(0.5, 1.5, (len(pops), len(pops)))\n",
        "\n",
        "pconn_coeff = np.array([\n",
        "    [0.1009, 0.1689, 0.0437, 0.0818, 0.0323, 0, 0.0076, 0],\n",
        "    [0.1346, 0.1371, 0.0316, 0.0515, 0.0755, 0, 0.0042, 0],\n",
        "    [0.0077, 0.0059, 0.0497, 0.135, 0.0067, 0.0003, 0.0453, 0],\n",
        "    [0.0691, 0.0029, 0.0794, 0.1597, 0.0033, 0, 0.1057, 0],\n",
        "    [0.1004, 0.0622, 0.0505, 0.0057, 0.0831, 0.3726, 0.0204, 0],\n",
        "    [0.0548, 0.0269, 0.0257, 0.0022, 0.06, 0.3158, 0.0086, 0],\n",
        "    [0.0156, 0.0066, 0.0211, 0.0166, 0.0572, 0.0197, 0.0396, 0.2252],\n",
        "    [0.0364, 0.001, 0.0034, 0.0005, 0.0277, 0.008, 0.0658, 0.1443]\n",
        "])\n",
        "pconn = pconn * pconn_coeff\n",
        "\n",
        "mu = np.random.uniform(20, 60, len(pops)) # V_rest + I_external * R\n",
        "tau_m = np.random.uniform(10, 40, len(pops))  # membrane time constant\n",
        "V_th = np.random.uniform(10, 30, len(pops))  # baseline threshold (non-accumulating part)\n",
        "\n",
        "tau_sfa_exc = [np.random.uniform(0, 1500)]  # threshold adaptation time constants of excitatory neurons\n",
        "tau_sfa_inh = [np.random.uniform(0, 1500)]  # threshold adaptation time constants of inhibitory neurons\n",
        "J_sfa_exc = [np.random.uniform(0, 1500)]   # adaptation strength: size of feedback kernel theta (= area under exponential) in mV*ms\n",
        "J_sfa_inh = [np.random.uniform(0, 1500)]   # in mV*ms\n",
        "tau_theta = np.array([tau_sfa_exc if prop == 1 else tau_sfa_inh for prop in pops_prop])\n",
        "J_theta = np.array([J_sfa_exc if prop == 1 else J_sfa_inh for prop in pops_prop])"
      ]
    },
    {
      "cell_type": "code",
      "execution_count": 38,
      "metadata": {
        "colab": {
          "base_uri": "https://localhost:8080/"
        },
        "id": "5fOQ1d3iFhl2",
        "outputId": "8d00a78a-981d-4700-ffd0-d8bbfddc8096"
      },
      "outputs": [
        {
          "name": "stdout",
          "output_type": "stream",
          "text": [
            "[[ 0.15100963  0.         -0.         -0.73659288  0.10340389  0.\n",
            "  -0.43375748 -0.76296671]\n",
            " [ 0.          0.10293862 -0.72453475 -0.50927912  0.06557972  0.\n",
            "  -0.66696421 -0.        ]\n",
            " [ 0.16327811  0.14064248 -0.36831358 -0.          0.          0.12718346\n",
            "  -0.66777753 -0.        ]\n",
            " [ 0.05874833  0.         -0.38153315 -0.42956491  0.          0.07120331\n",
            "  -0.         -0.37005946]\n",
            " [ 0.          0.         -0.         -0.          0.14886066  0.\n",
            "  -0.4591437  -0.        ]\n",
            " [ 0.          0.12166809 -0.42418922 -0.61401393  0.08593424  0.0603415\n",
            "  -0.41631874 -0.        ]\n",
            " [ 0.14118131  0.08548182 -0.30045833 -0.          0.14422604  0.\n",
            "  -0.7611016  -0.38772028]\n",
            " [ 0.11793987  0.08911273 -0.77923394 -0.          0.          0.\n",
            "  -0.         -0.55109108]]\n",
            "[41.12582985 50.1056665  51.45972527 24.07675962 50.14156835 40.70714351\n",
            " 59.67498722 39.85802266]\n",
            "[24.39332891 22.49451106 17.28022169 36.99383079 29.56238494 32.6761351\n",
            " 20.18460807 17.22108952]\n",
            "[22.90644944 18.27305909 15.03597331 23.33400504 20.99606445 14.65822922\n",
            " 10.62455642 28.50763874]\n",
            "[[1291.92986221]\n",
            " [1291.92986221]\n",
            " [ 491.63038011]\n",
            " [ 491.63038011]\n",
            " [1291.92986221]\n",
            " [1291.92986221]\n",
            " [ 491.63038011]\n",
            " [ 491.63038011]]\n",
            "[[304.764646  ]\n",
            " [304.764646  ]\n",
            " [947.56625373]\n",
            " [947.56625373]\n",
            " [304.764646  ]\n",
            " [304.764646  ]\n",
            " [947.56625373]\n",
            " [947.56625373]]\n",
            "-- -- --\n",
            "[[ 0.15100963  0.         -0.         -0.73659288  0.10340389  0.\n",
            "  -0.43375748 -0.76296671]\n",
            " [ 0.          0.10293862 -0.72453475 -0.50927912  0.06557972  0.\n",
            "  -0.66696421 -0.        ]\n",
            " [ 0.16327811  0.14064248 -0.36831358 -0.          0.          0.12718346\n",
            "  -0.66777753 -0.        ]\n",
            " [ 0.05874833  0.         -0.38153315 -0.42956491  0.          0.07120331\n",
            "  -0.         -0.37005946]\n",
            " [ 0.          0.         -0.         -0.          0.14886066  0.\n",
            "  -0.4591437  -0.        ]\n",
            " [ 0.          0.12166809 -0.42418922 -0.61401393  0.08593424  0.0603415\n",
            "  -0.41631874 -0.        ]\n",
            " [ 0.14118131  0.08548182 -0.30045833 -0.          0.14422604  0.\n",
            "  -0.7611016  -0.38772028]\n",
            " [ 0.11793987  0.08911273 -0.77923394 -0.          0.          0.\n",
            "  -0.         -0.55109108]]\n",
            "[41.12582985 50.1056665  51.45972527 24.07675962 50.14156835 40.70714351\n",
            " 59.67498722 39.85802266]\n",
            "[24.39332891 22.49451106 17.28022169 36.99383079 29.56238494 32.6761351\n",
            " 20.18460807 17.22108952]\n",
            "[22.90644944 18.27305909 15.03597331 23.33400504 20.99606445 14.65822922\n",
            " 10.62455642 28.50763874]\n",
            "[[1291.92986221]\n",
            " [1291.92986221]\n",
            " [ 491.63038011]\n",
            " [ 491.63038011]\n",
            " [1291.92986221]\n",
            " [1291.92986221]\n",
            " [ 491.63038011]\n",
            " [ 491.63038011]]\n",
            "[[304.764646  ]\n",
            " [304.764646  ]\n",
            " [947.56625373]\n",
            " [947.56625373]\n",
            " [304.764646  ]\n",
            " [304.764646  ]\n",
            " [947.56625373]\n",
            " [947.56625373]]\n",
            "-- -- --\n",
            "{'setting': 1, 'seed_num': 1, 'J_syn': [[0.1510096277767888, 0.0, -0.0, -0.7365928757736284, 0.10340388795170884, 0.0, -0.4337574819976054, -0.7629667085317511], [0.0, 0.10293862429797795, -0.7245347491669499, -0.5092791156347086, 0.06557971666252695, 0.0, -0.6669642053121376, -0.0], [0.16327811360577654, 0.14064247994561924, -0.36831357924418645, -0.0, 0.0, 0.1271834559698559, -0.6677775300014662, -0.0], [0.05874832997587019, 0.0, -0.38153315481713157, -0.42956490505645983, 0.0, 0.07120330786999998, -0.0, -0.370059458843141], [0.0, 0.0, -0.0, -0.0, 0.148860661236367, 0.0, -0.459143699390447, -0.0], [0.0, 0.12166809301361932, -0.42418921974977, -0.6140139263077901, 0.08593423972747218, 0.06034149985973911, -0.4163187444829799, -0.0], [0.1411813118164891, 0.08548181625581776, -0.3004583322500827, -0.0, 0.14422603713831322, 0.0, -0.761101598305835, -0.38772028303844563], [0.11793986897770777, 0.08911273145526728, -0.7792339440729855, -0.0, 0.0, 0.0, -0.0, -0.5510910788681607]], 'mu': [41.12582984519364, 50.10566650240563, 51.459725273413945, 24.07675961576288, 50.141568349281876, 40.70714351192393, 59.674987224626406, 39.85802266047716], 'tau_m': [24.39332891267638, 22.49451106105664, 17.280221693860952, 36.993830787786976, 29.56238494178382, 32.67613509591088, 20.184608067708893, 17.22108952230974], 'V_th': [22.906449442821476, 18.27305909272635, 15.035973305617066, 23.334005039511418, 20.996064446530525, 14.65822921610683, 10.624556424364025, 28.50763874386427], 'J_theta': [[1291.9298622107012], [1291.9298622107012], [491.6303801131593], [491.6303801131593], [1291.9298622107012], [1291.9298622107012], [491.6303801131593], [491.6303801131593]], 'tau_theta': [[304.76464599976606], [304.76464599976606], [947.5662537301405], [947.5662537301405], [304.76464599976606], [304.76464599976606], [947.5662537301405], [947.5662537301405]]}\n"
          ]
        }
      ],
      "source": [
        "print(J_syn)\n",
        "print(mu)\n",
        "print(tau_m)\n",
        "print(V_th)\n",
        "print(J_theta)\n",
        "print(tau_theta)\n",
        "\n",
        "print(\"-- -- --\")\n",
        "\n",
        "J_syn_list = J_syn.tolist()\n",
        "mu_list = mu.tolist()\n",
        "tau_m_list = tau_m.tolist()\n",
        "V_th_list = V_th.tolist()\n",
        "J_theta_list = J_theta.tolist()\n",
        "tau_theta_list = tau_theta.tolist()\n",
        "\n",
        "setting = 1\n",
        "seed_num = 1\n",
        "\n",
        "# Store your data into a dictionary\n",
        "data_dict = {\"setting\": setting, \n",
        "        \"seed_num\": seed_num, \n",
        "        \"J_syn\": J_syn_list, \n",
        "        \"mu\": mu_list, \n",
        "        \"tau_m\": tau_m_list, \n",
        "        \"V_th\": V_th_list, \n",
        "        \"J_theta\": J_theta_list, \n",
        "        \"tau_theta\": tau_theta_list\n",
        "        }\n",
        "\n",
        "# Convert the dictionary into a JSON string\n",
        "json_str = json.dumps(data_dict)\n",
        "\n",
        "# Create the file name string\n",
        "filename = f\"data_{setting}-{seed_num}.json\"\n",
        "\n",
        "# Write the JSON string to a file\n",
        "with open(filename, 'w') as json_file:\n",
        "    json_file.write(json_str)\n",
        "\n",
        "\n",
        "# Read the JSON string from the file\n",
        "with open(filename, 'r') as json_file:\n",
        "    json_str = json_file.read()\n",
        "\n",
        "# Convert the JSON string into a dictionary\n",
        "data_dict = json.loads(json_str)\n",
        "\n",
        "# Convert the nested lists back into numpy arrays\n",
        "J_syn = np.array(data_dict[\"J_syn\"])\n",
        "mu = np.array(data_dict[\"mu\"])\n",
        "tau_m = np.array(data_dict[\"tau_m\"])\n",
        "V_th = np.array(data_dict[\"V_th\"])\n",
        "J_theta = np.array(data_dict[\"J_theta\"])\n",
        "tau_theta = np.array(data_dict[\"tau_theta\"])\n",
        "\n",
        "print(J_syn)\n",
        "print(mu)\n",
        "print(tau_m)\n",
        "print(V_th)\n",
        "print(J_theta)\n",
        "print(tau_theta)\n",
        "\n",
        "print(\"-- -- --\")\n",
        "\n",
        "print(data_dict)"
      ]
    },
    {
      "attachments": {},
      "cell_type": "markdown",
      "metadata": {
        "id": "Ja4fcwSKrkh1"
      },
      "source": [
        "## random 3 pop para"
      ]
    },
    {
      "cell_type": "code",
      "execution_count": null,
      "metadata": {
        "id": "9Ps6Tdwkrkh9"
      },
      "outputs": [],
      "source": [
        "pops = np.array([400, 200, 400])\n",
        "pops_prop = np.random.choice([1, -1], size=len(pops)) # 1: excitatory, -1: inhibitory\n",
        "\n",
        "pconn = np.random.randint(0, 2, (len(pops), len(pops)))\n",
        "np.fill_diagonal(pconn, 1)\n",
        "\n",
        "J = np.random.uniform(0.06, 0.3)  # excitatory synaptic weight in mV, w^{αβ} in the paper\n",
        "g = np.random.uniform(3, 6)   # inhibition-to-excitation ratio, -g*J is the weight for inhibitory signals\n",
        "J_syn = np.outer(np.ones_like(pops_prop), np.where(pops_prop == -1, -g*J, J))\n",
        "J_syn = J_syn * pconn * np.random.uniform(0.5, 1.5, (len(pops), len(pops)))\n",
        "\n",
        "pconn_coeff = 0.6\n",
        "pconn = pconn * pconn_coeff\n",
        "\n",
        "mu = np.random.uniform(20, 60, len(pops)) # V_rest + I_external * R\n",
        "tau_m = np.random.uniform(10, 40, len(pops))  # membrane time constant\n",
        "V_th = np.random.uniform(10, 30, len(pops))  # baseline threshold (non-accumulating part)\n",
        "\n",
        "tau_sfa_exc = [np.random.uniform(80, 1500)]  # threshold adaptation time constants of excitatory neurons\n",
        "tau_sfa_inh = [np.random.uniform(80, 1500)]  # threshold adaptation time constants of inhibitory neurons\n",
        "J_sfa_exc = [np.random.uniform(80, 1500)]   # adaptation strength: size of feedback kernel theta (= area under exponential) in mV*ms\n",
        "J_sfa_inh = [np.random.uniform(80, 1500)]   # in mV*ms\n",
        "tau_theta = np.array([tau_sfa_exc if prop == 1 else tau_sfa_inh for prop in pops_prop])\n",
        "J_theta = np.array([J_sfa_exc if prop == 1 else J_sfa_inh for prop in pops_prop])"
      ]
    },
    {
      "cell_type": "code",
      "execution_count": null,
      "metadata": {
        "colab": {
          "base_uri": "https://localhost:8080/"
        },
        "id": "K4iLUdk7rkh9",
        "outputId": "2d8e8930-39d4-4ca2-ad5d-57a615069b59"
      },
      "outputs": [
        {
          "name": "stdout",
          "output_type": "stream",
          "text": [
            "[[ 0.24724725 -0.          0.        ]\n",
            " [ 0.         -0.58247619  0.        ]\n",
            " [ 0.         -0.          0.1521292 ]]\n",
            "[54.6528744  30.81797719 30.5206559 ]\n",
            "[36.24766555 21.45326659 25.40004589]\n",
            "[14.04083336 25.41295085 27.62235758]\n",
            "[[1383.44940246]\n",
            " [ 447.57197117]\n",
            " [1383.44940246]]\n",
            "[[ 942.37085234]\n",
            " [1077.55660579]\n",
            " [ 942.37085234]]\n",
            "-- -- --\n",
            "[[ 0.24724725 -0.          0.        ]\n",
            " [ 0.         -0.58247619  0.        ]\n",
            " [ 0.         -0.          0.1521292 ]]\n",
            "[54.6528744  30.81797719 30.5206559 ]\n",
            "[36.24766555 21.45326659 25.40004589]\n",
            "[14.04083336 25.41295085 27.62235758]\n",
            "[[1383.44940246]\n",
            " [ 447.57197117]\n",
            " [1383.44940246]]\n",
            "[[ 942.37085234]\n",
            " [1077.55660579]\n",
            " [ 942.37085234]]\n",
            "-- -- --\n",
            "{'setting': 1, 'seed_num': 1, 'J_syn': [[0.24724724919346042, -0.0, 0.0], [0.0, -0.5824761916708973, 0.0], [0.0, -0.0, 0.15212919967157734]], 'mu': [54.65287439733692, 30.817977191412638, 30.520655897465833], 'tau_m': [36.247665546867466, 21.453266587341155, 25.40004588914421], 'V_th': [14.040833361554334, 25.412950845394846, 27.62235757688827], 'J_theta': [[1383.449402456898], [447.57197116530324], [1383.449402456898]], 'tau_theta': [[942.3708523385774], [1077.5566057913945], [942.3708523385774]]}\n"
          ]
        }
      ],
      "source": [
        "print(J_syn)\n",
        "print(mu)\n",
        "print(tau_m)\n",
        "print(V_th)\n",
        "print(J_theta)\n",
        "print(tau_theta)\n",
        "\n",
        "print(\"-- -- --\")\n",
        "\n",
        "J_syn_list = J_syn.tolist()\n",
        "mu_list = mu.tolist()\n",
        "tau_m_list = tau_m.tolist()\n",
        "V_th_list = V_th.tolist()\n",
        "J_theta_list = J_theta.tolist()\n",
        "tau_theta_list = tau_theta.tolist()\n",
        "\n",
        "setting = 1\n",
        "seed_num = 1\n",
        "\n",
        "# Store your data into a dictionary\n",
        "data_dict = {\"setting\": setting, \n",
        "        \"seed_num\": seed_num, \n",
        "        \"J_syn\": J_syn_list, \n",
        "        \"mu\": mu_list, \n",
        "        \"tau_m\": tau_m_list, \n",
        "        \"V_th\": V_th_list, \n",
        "        \"J_theta\": J_theta_list, \n",
        "        \"tau_theta\": tau_theta_list\n",
        "        }\n",
        "\n",
        "# Convert the dictionary into a JSON string\n",
        "json_str = json.dumps(data_dict)\n",
        "\n",
        "# Create the file name string\n",
        "filename = f\"data_{setting}-{seed_num}.json\"\n",
        "\n",
        "# Write the JSON string to a file\n",
        "with open(filename, 'w') as json_file:\n",
        "    json_file.write(json_str)\n",
        "\n",
        "\n",
        "# Read the JSON string from the file\n",
        "with open(filename, 'r') as json_file:\n",
        "    json_str = json_file.read()\n",
        "\n",
        "# Convert the JSON string into a dictionary\n",
        "data_dict = json.loads(json_str)\n",
        "\n",
        "# Convert the nested lists back into numpy arrays\n",
        "J_syn = np.array(data_dict[\"J_syn\"])\n",
        "mu = np.array(data_dict[\"mu\"])\n",
        "tau_m = np.array(data_dict[\"tau_m\"])\n",
        "V_th = np.array(data_dict[\"V_th\"])\n",
        "J_theta = np.array(data_dict[\"J_theta\"])\n",
        "tau_theta = np.array(data_dict[\"tau_theta\"])\n",
        "\n",
        "print(J_syn)\n",
        "print(mu)\n",
        "print(tau_m)\n",
        "print(V_th)\n",
        "print(J_theta)\n",
        "print(tau_theta)\n",
        "\n",
        "print(\"-- -- --\")\n",
        "\n",
        "print(data_dict)"
      ]
    },
    {
      "attachments": {},
      "cell_type": "markdown",
      "metadata": {
        "id": "NCwgfLMhEYFk"
      },
      "source": [
        "## 3 pops parameter setting"
      ]
    },
    {
      "cell_type": "code",
      "execution_count": null,
      "metadata": {
        "id": "jU1auDOH1qd8"
      },
      "outputs": [],
      "source": [
        "pops = np.array([400, 200, 400])\n",
        "pops_prop = np.array([1, -1, 1]) # 1: excitatory, -1: inhibitory\n",
        "\n",
        "pconn = np.array([[1, 1, 0],\n",
        "          [1, 1, 1],\n",
        "          [0, 1, 1]])\n",
        "J = 0.0624  # excitatory synaptic weight in mV \n",
        "g = 0.496/0.0624   # inhibition-to-excitation ratio, -g*J is the weight for inhibitory signals\n",
        "J_syn = np.outer(np.ones_like(pops_prop), np.where(pops_prop == -1, -g*J, J))\n",
        "J_syn = J_syn * pconn\n",
        "\n",
        "pconn_coeff = 1\n",
        "pconn = pconn * pconn_coeff\n",
        "\n",
        "mu = 36 * np.ones(len(pops)) # V_rest + I_external * R\n",
        "tau_m = 20 * np.ones(len(pops))  # membrane time constant\n",
        "V_th = 15. * np.ones(len(pops))  # baseline threshold (non-accumulating part)\n",
        "\n",
        "tau_sfa_exc = [1000., 1000.]  # threshold adaptation time constants of excitatory neurons\n",
        "tau_sfa_inh = [1000., 1000.]  # threshold adaptation time constants of inhibitory neurons\n",
        "J_sfa_exc = [100., 1000.]   # adaptation strength: size of feedback kernel theta (= area under exponential) in mV*ms\n",
        "J_sfa_inh = [100., 1000.]   # in mV*ms\n",
        "tau_theta = np.array([tau_sfa_exc if prop == 1 else tau_sfa_inh for prop in pops_prop])\n",
        "J_theta = np.array([J_sfa_exc if prop == 1 else J_sfa_inh for prop in pops_prop])"
      ]
    },
    {
      "attachments": {},
      "cell_type": "markdown",
      "metadata": {
        "id": "jj1OKOhUBErb"
      },
      "source": [
        "## Bistability para"
      ]
    },
    {
      "cell_type": "code",
      "execution_count": null,
      "metadata": {
        "id": "iSrfxaZvBLJU"
      },
      "outputs": [],
      "source": [
        "pops = np.array([400, 200, 400])\n",
        "pops_prop = np.array([1, -1, 1]) # 1: excitatory, -1: inhibitory\n",
        "\n",
        "pconn = np.array([[1, 1, 0],\n",
        "          [1, 1, 1],\n",
        "          [0, 1, 1]])\n",
        "J = 0.096  # excitatory synaptic weight in mV\n",
        "g = 0.384/0.096   # inhibition-to-excitation ratio, -g*J is the weight for inhibitory signals\n",
        "J_syn = np.outer(np.ones_like(pops_prop), np.where(pops_prop == -1, -g*J, J))\n",
        "J_syn = J_syn * pconn\n",
        "\n",
        "pconn_coeff = 1.\n",
        "pconn = pconn * pconn_coeff\n",
        "\n",
        "mu = 36. * np.ones(len(pops)) # V_rest + I_external * R\n",
        "tau_m = 20. * np.ones(len(pops))  # membrane time constant\n",
        "V_th = 15. * np.ones(len(pops))  # baseline threshold (non-accumulating part)\n",
        "\n",
        "tau_sfa_exc = [1000.]  # threshold adaptation time constants of excitatory neurons\n",
        "tau_sfa_inh = [1000.]  # threshold adaptation time constants of inhibitory neurons\n",
        "J_sfa_exc = [100.]   # adaptation strength: size of feedback kernel theta (= area under exponential) in mV*ms\n",
        "J_sfa_inh = [100.]   # in mV*ms\n",
        "tau_theta = np.array([tau_sfa_exc if prop == 1 else tau_sfa_inh for prop in pops_prop])\n",
        "J_theta = np.array([J_sfa_exc if prop == 1 else J_sfa_inh for prop in pops_prop])"
      ]
    },
    {
      "attachments": {},
      "cell_type": "markdown",
      "metadata": {
        "id": "Gqm1s-rKGl-6"
      },
      "source": [
        "## original para"
      ]
    },
    {
      "cell_type": "code",
      "execution_count": null,
      "metadata": {
        "id": "gngVaNUtGpAW"
      },
      "outputs": [],
      "source": [
        "pops = np.array([800, 200])\n",
        "pops_prop = np.array([1, -1]) # 1: excitatory, -1: inhibitory\n",
        "\n",
        "pconn = np.array([[1, 1],\n",
        "          [1, 1]])\n",
        "J = 0.3  # excitatory synaptic weight in mV \n",
        "g = 5   # inhibition-to-excitation ratio, -g*J is the weight for inhibitory signals\n",
        "J_syn = np.outer(np.ones_like(pops_prop), np.where(pops_prop == -1, -g*J, J))\n",
        "J_syn = J_syn * pconn\n",
        "\n",
        "pconn_coeff = 0.2\n",
        "pconn = pconn * pconn_coeff\n",
        "\n",
        "mu = 24 * np.ones(len(pops)) # V_rest + I_external * R\n",
        "tau_m = 20 * np.ones(len(pops))  # membrane time constant\n",
        "V_th = 15. * np.ones(len(pops))  # baseline threshold (non-accumulating part)\n",
        "\n",
        "tau_sfa_exc = [100., 1000.]  # threshold adaptation time constants of excitatory neurons\n",
        "tau_sfa_inh = [100., 1000.]  # threshold adaptation time constants of inhibitory neurons\n",
        "J_sfa_exc = [1000., 1000.]   # adaptation strength: size of feedback kernel theta (= area under exponential) in mV*ms\n",
        "J_sfa_inh = [1000., 1000.]   # in mV*ms\n",
        "tau_theta = np.array([tau_sfa_exc if prop == 1 else tau_sfa_inh for prop in pops_prop])\n",
        "J_theta = np.array([J_sfa_exc if prop == 1 else J_sfa_inh for prop in pops_prop])"
      ]
    },
    {
      "attachments": {},
      "cell_type": "markdown",
      "metadata": {
        "id": "Jfxnqd7UASED"
      },
      "source": [
        "## other para"
      ]
    },
    {
      "cell_type": "code",
      "execution_count": null,
      "metadata": {
        "id": "81WxF9kU1-Gb"
      },
      "outputs": [],
      "source": [
        "pops = np.array([800, 200])\n",
        "pops_prop = np.array([1, -1]) # 1: excitatory, -1: inhibitory\n",
        "\n",
        "pconn = np.array([[1, 1],\n",
        "          [1, 1]])\n",
        "J = 0.3  # excitatory synaptic weight in mV, w^{αβ} in the paper\n",
        "g = 5.   # inhibition-to-excitation ratio, -g*J is the weight for inhibitory signals\n",
        "J_syn = np.outer(np.ones_like(pops_prop), np.where(pops_prop == -1, -g*J, J))\n",
        "J_syn = J_syn * pconn\n",
        "\n",
        "pconn_coeff = 0.2\n",
        "pconn = pconn * pconn_coeff\n",
        "\n",
        "mu = 24. * np.ones(len(pops)) # V_rest + I_external * R\n",
        "tau_m = 20. * np.ones(len(pops))  # membrane time constant\n",
        "V_th = 15. * np.ones(len(pops))  # baseline threshold (non-accumulating part)\n",
        "\n",
        "tau_sfa_exc = [100., 1000.]  # threshold adaptation time constants of excitatory neurons\n",
        "tau_sfa_inh = [100., 1000.]  # threshold adaptation time constants of inhibitory neurons\n",
        "J_sfa_exc = [1000., 1000.]   # adaptation strength: size of feedback kernel theta (= area under exponential) in mV*ms\n",
        "J_sfa_inh = [1000., 1000.]   # in mV*ms\n",
        "tau_theta = np.array([tau_sfa_exc if prop == 1 else tau_sfa_inh for prop in pops_prop])\n",
        "J_theta = np.array([J_sfa_exc if prop == 1 else J_sfa_inh for prop in pops_prop])"
      ]
    },
    {
      "cell_type": "code",
      "execution_count": null,
      "metadata": {
        "id": "5iuxPFa04j0Q"
      },
      "outputs": [],
      "source": [
        "pops = np.array([800, 200, 200])\n",
        "pops_prop = np.array([1, -1, 1]) # 1: excitatory, -1: inhibitory\n",
        "\n",
        "pconn = np.array([[1, 1, 1],\n",
        "          [1, 1, 1],\n",
        "          [1, 1, 1]])\n",
        "J = 0.3  # excitatory synaptic weight in mV \n",
        "g = 5.   # inhibition-to-excitation ratio, -g*J is the weight for inhibitory signals\n",
        "J_syn = np.outer(np.ones_like(pops_prop), np.where(pops_prop == -1, -g*J, J))\n",
        "J_syn = J_syn * pconn\n",
        "\n",
        "pconn_coeff = 0.2\n",
        "pconn = pconn * pconn_coeff\n",
        "\n",
        "mu = 24 * np.ones(len(pops)) # V_rest + I_external * R\n",
        "tau_m = 20 * np.ones(len(pops))  # membrane time constant\n",
        "V_th = 15. * np.ones(len(pops))  # baseline threshold (non-accumulating part)\n",
        "\n",
        "tau_sfa_exc = [100., 1000.]  # threshold adaptation time constants of excitatory neurons\n",
        "tau_sfa_inh = [100., 1000.]  # threshold adaptation time constants of inhibitory neurons\n",
        "J_sfa_exc = [1000., 1000.]   # adaptation strength: size of feedback kernel theta (= area under exponential) in mV*ms\n",
        "J_sfa_inh = [1000., 1000.]   # in mV*ms\n",
        "tau_theta = np.array([tau_sfa_exc if prop == 1 else tau_sfa_inh for prop in pops_prop])\n",
        "J_theta = np.array([J_sfa_exc if prop == 1 else J_sfa_inh for prop in pops_prop])"
      ]
    }
  ],
  "metadata": {
    "colab": {
      "provenance": [],
      "toc_visible": true
    },
    "kernelspec": {
      "display_name": "Python 3",
      "name": "python3"
    },
    "language_info": {
      "name": "python"
    }
  },
  "nbformat": 4,
  "nbformat_minor": 0
}
